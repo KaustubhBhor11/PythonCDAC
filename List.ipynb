{
 "cells": [
  {
   "cell_type": "code",
   "execution_count": null,
   "metadata": {},
   "outputs": [],
   "source": []
  },
  {
   "cell_type": "code",
   "execution_count": null,
   "metadata": {},
   "outputs": [
    {
     "data": {
      "text/plain": [
       "[1, 2, 3, 4, 5, 1] insert at last\n",
       "[23, 1, 2, 3, 4, 5, 1] insert at index without replaceing\n",
       "[23, 1, 2, 3, 4, 5] removes last element\n",
       "[23, 1, 2, 3, 5] removes given value from list\n",
       "[23, 1, 2, 3, 5]  deep copy of list\n",
       "[23, 1, 2, 3, 5]   shallow copy\n",
       "[23, 1, 2, 3, 5]  removes all elements from list\n",
       "[23, 1, 2, 3, 5]  shows number of instance of value\n",
       "[23, 1, 2, 3, 5]  gives index of value in list\n",
       "[23, 1, 2, 3, 5, 7, 8, 7, 0, 2]  concat two lists\n",
       "[23, 1, 2, 3, 5, 7, 8, 7, 0, 2, 4]  concat single element\n",
       "[4, 2, 0, 7, 8, 7, 5, 3, 2, 1, 23]  reserve the order\n",
       "[0, 1, 2, 2, 3, 4, 5, 7, 7, 8, 23]  #sorts the elements\n",
       "[23, 8, 7, 7, 5, 4, 3, 2, 2, 1, 0]  sorts the elements in reverse\n"
      ]
     },
     "metadata": {},
     "output_type": "display_data"
    }
   ],
   "source": [
    "list1=[1,2,3,4,5]\n",
    "list2=[7,8,7,0,2]\n",
    "list1.append(1) # insert at last\n",
    "print(list1,\"insert at last\")\n",
    "\n",
    "list1.insert(0,23) # insert at index without replaceing\n",
    "print(list1,\"insert at index without replaceing\")\n",
    "\n",
    "list1.pop() # removes last element\n",
    "print(list1,\"removes last element\")\n",
    "\n",
    "list1.remove(4) #removes given value from list\n",
    "print(list1,\"removes given value from list\")\n",
    "\n",
    "copy_list = list1.copy() # deep copy of list\n",
    "print(list1 , \" deep copy of list\")\n",
    "\n",
    "copy1_list = list1 # shallow copy\n",
    "print(list1, \"  shallow copy\")\n",
    "\n",
    "copy_list.clear() #removes all elements from list\n",
    "print(list1 , \" removes all elements from list\")\n",
    "\n",
    "list1.count(23) # shows number of instance of value\n",
    "print(list1 , \" shows number of instance of value\")\n",
    "\n",
    "list1.index(23) # gives index of value in list\n",
    "print(list1 , \" gives index of value in list\")\n",
    "\n",
    "list1.extend(list2) # concat two lists\n",
    "print(list1 , \" concat two lists\")\n",
    "\n",
    "list1.extend([4]) # concat single element\n",
    "print(list1 , \" concat single element\")\n",
    "\n",
    "list1.reverse() # reserve the order\n",
    "print(list1 , \" reserve the order\")\n",
    "\n",
    "list1.sort() #sorts the elements\n",
    "print(list1 , \" #sorts the elements\")\n",
    "\n",
    "list1.sort(reverse=True) #sorts the elements in reverse\n",
    "print(list1 , \" sorts the elements in reverse\")\n",
    "\n",
    "\n",
    "\n"
   ]
  }
 ],
 "metadata": {
  "language_info": {
   "name": "python"
  }
 },
 "nbformat": 4,
 "nbformat_minor": 2
}
