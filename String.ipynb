{
 "cells": [
  {
   "cell_type": "code",
   "execution_count": 4,
   "metadata": {},
   "outputs": [
    {
     "name": "stdout",
     "output_type": "stream",
     "text": [
      "olleh siht si eht gib gnirts taht uoy deen   siht si eht dnoces enil   siht si driht enil\n"
     ]
    }
   ],
   "source": [
    "strr=\"\"\"hello this is the big string that you need \n",
    " this is the second line \n",
    " this is third line\"\"\"\n",
    "\n",
    "line=[]\n",
    "line1=[]\n",
    "\n",
    "for i in strr.splitlines():\n",
    "    line=i.split(\" \")\n",
    "    for word in line:\n",
    "        line1.append(word[::-1])\n",
    "        #print(e)\n",
    "finalLine=\" \".join(line1)\n",
    "print(finalLine)\n",
    "\n"
   ]
  },
  {
   "cell_type": "code",
   "execution_count": null,
   "metadata": {},
   "outputs": [],
   "source": []
  }
 ],
 "metadata": {
  "kernelspec": {
   "display_name": "Python 3",
   "language": "python",
   "name": "python3"
  },
  "language_info": {
   "codemirror_mode": {
    "name": "ipython",
    "version": 3
   },
   "file_extension": ".py",
   "mimetype": "text/x-python",
   "name": "python",
   "nbconvert_exporter": "python",
   "pygments_lexer": "ipython3",
   "version": "3.13.2"
  }
 },
 "nbformat": 4,
 "nbformat_minor": 2
}
