{
 "cells": [
  {
   "cell_type": "markdown",
   "metadata": {},
   "source": [
    "# Dictionary"
   ]
  },
  {
   "cell_type": "code",
   "execution_count": 13,
   "metadata": {},
   "outputs": [
    {
     "name": "stdout",
     "output_type": "stream",
     "text": [
      "{1: 'abc', 2: 'xya', 3: 'yu'}\n"
     ]
    }
   ],
   "source": [
    "# Dictionary declaring (Ordered)\n",
    "d={1:\"abc\",2:\"xya\",3:\"yu\"}\n",
    "print(d)"
   ]
  },
  {
   "cell_type": "code",
   "execution_count": 14,
   "metadata": {},
   "outputs": [
    {
     "data": {
      "text/plain": [
       "dict"
      ]
     },
     "execution_count": 14,
     "metadata": {},
     "output_type": "execute_result"
    }
   ],
   "source": [
    "#get type of d\n",
    "type(d)"
   ]
  },
  {
   "cell_type": "code",
   "execution_count": 20,
   "metadata": {},
   "outputs": [
    {
     "data": {
      "text/plain": [
       "{1: 'a', 2: 'b', 3: 'c', 67: 'yu', 23: 'ui'}"
      ]
     },
     "execution_count": 20,
     "metadata": {},
     "output_type": "execute_result"
    }
   ],
   "source": [
    "d={1:\"a\",2:\"b\",3:\"c\",67:\"yu\",23:\"ui\"} #Thus can use any key \n",
    "d  #They will always be ordered"
   ]
  },
  {
   "cell_type": "code",
   "execution_count": 16,
   "metadata": {},
   "outputs": [
    {
     "name": "stdout",
     "output_type": "stream",
     "text": [
      "1 a\n",
      "2 b\n",
      "3 c\n",
      "67 yu\n",
      "23 ui\n"
     ]
    }
   ],
   "source": [
    "#Printing the key nd values \n",
    "#Directly using for loop with i will give the key and dict[i] will give value\n",
    "for i in d:\n",
    "    print(i,d[i])"
   ]
  },
  {
   "cell_type": "code",
   "execution_count": 17,
   "metadata": {},
   "outputs": [
    {
     "name": "stdout",
     "output_type": "stream",
     "text": [
      "dict_values(['a', 'b', 'c', 'yu', 'ui'])\n",
      "dict_keys([1, 2, 3, 67, 23])\n",
      "dict_items([(1, 'a'), (2, 'b'), (3, 'c'), (67, 'yu'), (23, 'ui')])\n"
     ]
    }
   ],
   "source": [
    "# print keys values \n",
    "print(d.values())\n",
    "print(d.keys())\n",
    "print(d.items())"
   ]
  },
  {
   "cell_type": "code",
   "execution_count": 18,
   "metadata": {},
   "outputs": [],
   "source": [
    "# keys are immutable and values are mutable\n",
    "d[1]=\"aa\"\n",
    "d[11]=\"aaaa\""
   ]
  },
  {
   "cell_type": "code",
   "execution_count": 21,
   "metadata": {},
   "outputs": [
    {
     "name": "stdout",
     "output_type": "stream",
     "text": [
      "{1: 'a', 2: 'b', 3: 'c', 67: 'yu', 23: 'ui'}\n",
      "{1: 'a', 3: 'c', 67: 'yu', 23: 'ui'}\n",
      "{1: 'a', 3: 'c', 67: 'yu'}\n"
     ]
    }
   ],
   "source": [
    "# remove item and remove last element\n",
    "print(d)\n",
    "d.pop(2)\n",
    "print(d)\n",
    "d.popitem()\n",
    "print(d)"
   ]
  },
  {
   "cell_type": "code",
   "execution_count": 23,
   "metadata": {},
   "outputs": [
    {
     "name": "stdout",
     "output_type": "stream",
     "text": [
      "{'this': 2, 'is': 1, 'the': 1, 'sentence': 1, 'that': 1, 'needs': 1, 'to': 1, 'be': 1, 'processed': 1, 'find': 1}\n"
     ]
    }
   ],
   "source": [
    "# program to find word count\n",
    "s=\"this is the sentence that needs to be processed find this\"\n",
    "d={}\n",
    "for i in s.split():\n",
    "    if i not in d.keys():\n",
    "        d[i]=1\n",
    "    else:\n",
    "        d[i]+=1\n",
    "print(d)"
   ]
  },
  {
   "cell_type": "code",
   "execution_count": 39,
   "metadata": {},
   "outputs": [
    {
     "name": "stdout",
     "output_type": "stream",
     "text": [
      "length of dic is  10\n"
     ]
    }
   ],
   "source": [
    "d1={'this': 2, 'is': 1, 'the': 5, 'sentence': 1, 'that': 2, 'needs': 1, 'to': 1, 'be': 1, 'processed': 1, 'find': 3}\n",
    "count=0\n",
    "for i in d1:\n",
    "    count+=1\n",
    "print(\"length of dic is \",count)"
   ]
  },
  {
   "cell_type": "code",
   "execution_count": 74,
   "metadata": {},
   "outputs": [
    {
     "data": {
      "text/plain": [
       "{'Amit': 'Blue', 'Atul': 'Red', 'Pooja': 'Green'}"
      ]
     },
     "execution_count": 74,
     "metadata": {},
     "output_type": "execute_result"
    }
   ],
   "source": [
    "#Sort based on keys\n",
    "d2={\"Atul\":\"Red\",\"Amit\":\"Blue\",\"Pooja\":\"Green\"}\n",
    "keylist=list(d2.keys())\n",
    "keylist.sort()\n",
    "\n",
    "sort_key_dict={i:d2[i] for i in keylist}\n",
    "sort_key_dict"
   ]
  },
  {
   "cell_type": "code",
   "execution_count": null,
   "metadata": {},
   "outputs": [
    {
     "name": "stdout",
     "output_type": "stream",
     "text": [
      "Caesar cipher? I much prefer Caesar salad!\n",
      "Pnrfne pvcure? V zhpu cersre Pnrfne fnynq!\n"
     ]
    }
   ],
   "source": [
    "#Encoder and decoder\n",
    "keys={\n",
    " 'a': 'n', 'b': 'o', 'c': 'p', 'd': 'q', 'e': 'r', 'f': 's', 'g': 't', 'h': 'u',\n",
    " 'i': 'v', 'j': 'w', 'k': 'x', 'l': 'y', 'm': 'z', 'n': 'a', 'o': 'b', 'p': 'c',\n",
    " 'q': 'd', 'r': 'e', 's': 'f', 't': 'g', 'u': 'h', 'v': 'i', 'w': 'j', 'x': 'k',\n",
    " 'y': 'l', 'z': 'm',\n",
    " 'A': 'N', 'B': 'O', 'C': 'P', 'D': 'Q', 'E': 'R', 'F': 'S', 'G': 'T', 'H': 'U',\n",
    " 'I': 'V', 'J': 'W', 'K': 'X', 'L': 'Y', 'M': 'Z', 'N': 'A', 'O': 'B', 'P': 'C',\n",
    " 'Q': 'D', 'R': 'E', 'S': 'F', 'T': 'G', 'U': 'H', 'V': 'I', 'W': 'J', 'X': 'K',\n",
    " 'Y': 'L', 'Z': 'M'\n",
    "}\n",
    "\n",
    "#Decode\n",
    "string_to_decoder=\"Pnrfne pvcure? V zhpu cersre Pnrfne fnynq!\"\n",
    "decoded_string=\"\"\n",
    "for i in string_to_decoder:\n",
    "    if i.isalpha():\n",
    "        decoded_string+=keys.get(i)\n",
    "    else:\n",
    "        decoded_string+=i\n",
    "print(decoded_string)\n",
    "\n",
    "#Encode\n",
    "encoded_string=\"\"\n",
    "for i in decoded_string:\n",
    "    if i.isalpha():\n",
    "        encoded_string+=keys.get(i)\n",
    "    else:\n",
    "        encoded_string+=i\n",
    "print(encoded_string)\n"
   ]
  },
  {
   "cell_type": "code",
   "execution_count": 79,
   "metadata": {},
   "outputs": [
    {
     "data": {
      "text/plain": [
       "{10: 'hello', 20: None, 40: None, 30: None, 90: None}"
      ]
     },
     "execution_count": 79,
     "metadata": {},
     "output_type": "execute_result"
    }
   ],
   "source": [
    "#fromkeys function\n",
    "a={}\n",
    "a=a.fromkeys([10,20,40,30,90])\n",
    "a[10]=\"hello\"\n",
    "a\n"
   ]
  },
  {
   "cell_type": "markdown",
   "metadata": {},
   "source": [
    "# Sets"
   ]
  },
  {
   "cell_type": "code",
   "execution_count": 88,
   "metadata": {},
   "outputs": [
    {
     "name": "stdout",
     "output_type": "stream",
     "text": [
      "{34, 67, 12, 45, 78, 23, 56, 89, 90}\n",
      "{34, 67, 12, 45, 78, 23, 56, 89, 90, 88}\n",
      "{67, 12, 45, 78, 23, 56, 89, 90, 88}\n",
      "{67, 12, 45, 78, 23, 56, 89, 90}\n"
     ]
    }
   ],
   "source": [
    "s = {12,12,23,34,45,56,67,78,89,90}\n",
    "print(s)\n",
    "s.add(88)\n",
    "print(s)\n",
    "s.pop()\n",
    "print(s)\n",
    "s.remove(88)\n",
    "print(s)"
   ]
  },
  {
   "cell_type": "code",
   "execution_count": null,
   "metadata": {},
   "outputs": [
    {
     "ename": "SyntaxError",
     "evalue": "invalid syntax (3525145757.py, line 1)",
     "output_type": "error",
     "traceback": [
      "  \u001b[36mCell\u001b[39m\u001b[36m \u001b[39m\u001b[32mIn[84]\u001b[39m\u001b[32m, line 1\u001b[39m\n\u001b[31m    \u001b[39m\u001b[31mset=,\u001b[39m\n        ^\n\u001b[31mSyntaxError\u001b[39m\u001b[31m:\u001b[39m invalid syntax\n"
     ]
    }
   ],
   "source": []
  },
  {
   "cell_type": "code",
   "execution_count": null,
   "metadata": {},
   "outputs": [],
   "source": []
  }
 ],
 "metadata": {
  "kernelspec": {
   "display_name": "Python 3",
   "language": "python",
   "name": "python3"
  },
  "language_info": {
   "codemirror_mode": {
    "name": "ipython",
    "version": 3
   },
   "file_extension": ".py",
   "mimetype": "text/x-python",
   "name": "python",
   "nbconvert_exporter": "python",
   "pygments_lexer": "ipython3",
   "version": "3.13.2"
  }
 },
 "nbformat": 4,
 "nbformat_minor": 2
}
