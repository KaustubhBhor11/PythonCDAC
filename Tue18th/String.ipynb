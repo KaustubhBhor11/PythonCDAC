{
 "cells": [
  {
   "cell_type": "code",
   "execution_count": null,
   "metadata": {},
   "outputs": [
    {
     "name": "stdout",
     "output_type": "stream",
     "text": [
      "olleh siht si eht gib gnirts taht uoy deen   siht si eht dnoces enil   siht si driht enil\n"
     ]
    }
   ],
   "source": [
    "#Print each word in reverse order\n",
    "strr=\"\"\"hello this is the big string that you need \n",
    " this is the second line \n",
    " this is third line\"\"\"\n",
    "\n",
    "line=[]\n",
    "line1=[]\n",
    "\n",
    "for i in strr.splitlines():\n",
    "    line=i.split(\" \")\n",
    "    for word in line:\n",
    "        line1.append(word[::-1])\n",
    "        #print(e)\n",
    "finalLine=\" \".join(line1)\n",
    "print(finalLine)"
   ]
  },
  {
   "cell_type": "code",
   "execution_count": null,
   "metadata": {},
   "outputs": [
    {
     "name": "stdout",
     "output_type": "stream",
     "text": [
      "CPU times: total: 0 ns\n",
      "Wall time: 5.48 μs\n",
      "big:1\n",
      "is:3\n",
      "third:1\n",
      "the:2\n",
      "you:1\n",
      "second:1\n",
      "line:2\n",
      "hello:1\n",
      "string:1\n",
      "need:1\n",
      "this:3\n",
      "that:1\n"
     ]
    }
   ],
   "source": [
    "\n",
    "#Count the number of words in string\n",
    "s='''hello this is the big string that you need this is the second line this is third line'''\n",
    "s=list(s.split())\n",
    "s1=set(s)\n",
    "for i in s1:\n",
    "    print(f\"{i}:{s.count(i)}\")"
   ]
  },
  {
   "cell_type": "code",
   "execution_count": 43,
   "metadata": {},
   "outputs": [
    {
     "name": "stdout",
     "output_type": "stream",
     "text": [
      "Is pangram\n",
      "CPU times: total: 0 ns\n",
      "Wall time: 188 μs\n"
     ]
    }
   ],
   "source": [
    "%%time\n",
    "#Check if the sentence is panagram\n",
    "#pnagram contains all letters from a-z\n",
    "\n",
    "s=\"The quick brown fox jumps over the lazy dog\"\n",
    "s=s.replace(\" \",\"\")\n",
    "if len(set(s.lower()))==26:\n",
    "    print(\"Is pangram\")\n",
    "else:\n",
    "    print(\"Not pangram\")"
   ]
  },
  {
   "cell_type": "code",
   "execution_count": null,
   "metadata": {},
   "outputs": [
    {
     "name": "stdout",
     "output_type": "stream",
     "text": [
      "Not Anagram\n"
     ]
    }
   ],
   "source": [
    "#Check if strings are anagram\n",
    "s1=\"madam\"\n",
    "s2=\"damam\"\n",
    "\n",
    "if sorted(s1)==sorted(s2):\n",
    "    print(\"Anagram\")\n",
    "else:\n",
    "    print(\"Not Anagram\")"
   ]
  },
  {
   "cell_type": "code",
   "execution_count": null,
   "metadata": {},
   "outputs": [
    {
     "data": {
      "text/plain": [
       "'TheNewClass'"
      ]
     },
     "execution_count": 40,
     "metadata": {},
     "output_type": "execute_result"
    }
   ],
   "source": [
    "#Convert snake to camel case\n",
    "s=\"The_new_class\"\n",
    "# s1=\"\"\n",
    "# for i in range(0,len(s)):\n",
    "#     if not s[i].isalpha():\n",
    "#         if s1[i].isupper():\n",
    "#             continue\n",
    "#         s1+=s[i+1].upper()\n",
    "#     else:\n",
    "#         s1+=s[i]\n",
    "# print(s1)\n",
    "\n",
    "list=[l.capitalize() for l in s.split(\"_\")]\n",
    "\"\".join(list)"
   ]
  },
  {
   "cell_type": "code",
   "execution_count": 39,
   "metadata": {},
   "outputs": [
    {
     "name": "stdout",
     "output_type": "stream",
     "text": [
      "the_new_class\n"
     ]
    }
   ],
   "source": [
    "#Convert camel case to snake case\n",
    "s=\"TheNewClass\"\n",
    "s1=\"\"\n",
    "for i in range(0,len(s)):\n",
    "    if s[i].isupper() and i!=0:\n",
    "        s1+=\"_\"\n",
    "        s1+=s[i].lower()\n",
    "    else:\n",
    "        s1+=s[i].lower()\n",
    "print(s1)"
   ]
  },
  {
   "cell_type": "code",
   "execution_count": 41,
   "metadata": {},
   "outputs": [
    {
     "name": "stdout",
     "output_type": "stream",
     "text": [
      "The first day of the month is a Monday.\n"
     ]
    }
   ],
   "source": [
    "#Get the month from user and print the of of week for 1st day in month and also the whole calender\n",
    "year=int(input(\"Enter Year : \"))\n",
    "month=int(input(\"Enter month in number format: \"))\n",
    "\n",
    "# Function to calculate the weekday of the 1st day of a given month and year\n",
    "def get_first_day_of_month(year, month):\n",
    "    if month == 1 or month == 2:\n",
    "        # January and February are treated as the 13th and 14th months of the previous year\n",
    "        month += 12\n",
    "        year -= 1\n",
    "    \n",
    "    q = 1  # Day of the month (always 1)\n",
    "    K = year % 100  # Year of the century\n",
    "    J = year // 100  # Century\n",
    "    \n",
    "    # Zeller's Congruence formula\n",
    "    h = (q + (13 * (month + 1)) // 5 + K + (K // 4) + (J // 4) - (2 * J)) % 7\n",
    "    \n",
    "    # Map result to weekday names\n",
    "    days_of_week = [\"Saturday\", \"Sunday\", \"Monday\", \"Tuesday\", \"Wednesday\", \"Thursday\", \"Friday\"]\n",
    "    return days_of_week[h]\n",
    "\n",
    "# Input year and month from the user\n",
    "year = int(input(\"Enter the year: \"))\n",
    "month = int(input(\"Enter the month (1-12): \"))\n",
    "\n",
    "# Get the weekday for the 1st of the month\n",
    "first_day = get_first_day_of_month(year, month)\n",
    "\n",
    "# Print the result\n",
    "print(f\"The first day of the month is a {first_day}.\")\n"
   ]
  },
  {
   "cell_type": "code",
   "execution_count": null,
   "metadata": {},
   "outputs": [],
   "source": []
  }
 ],
 "metadata": {
  "kernelspec": {
   "display_name": "Python 3",
   "language": "python",
   "name": "python3"
  },
  "language_info": {
   "codemirror_mode": {
    "name": "ipython",
    "version": 3
   },
   "file_extension": ".py",
   "mimetype": "text/x-python",
   "name": "python",
   "nbconvert_exporter": "python",
   "pygments_lexer": "ipython3",
   "version": "3.13.2"
  }
 },
 "nbformat": 4,
 "nbformat_minor": 2
}
